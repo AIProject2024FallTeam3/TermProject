{
 "cells": [
  {
   "cell_type": "code",
   "execution_count": null,
   "metadata": {
    "vscode": {
     "languageId": "plaintext"
    }
   },
   "outputs": [],
   "source": [
    "!pip install transformers datasets\n",
    "\n",
    "import torch\n",
    "from transformers import GPT2LMHeadModel, PreTrainedTokenizerFast, Trainer, TrainingArguments\n",
    "from datasets import load_dataset, Dataset\n",
    "import pandas as pd\n",
    "import numpy as np\n",
    "from transformers import TrainerCallback"
   ]
  },
  {
   "cell_type": "code",
   "execution_count": null,
   "metadata": {
    "vscode": {
     "languageId": "plaintext"
    }
   },
   "outputs": [],
   "source": [
    "from transformers import GPT2LMHeadModel, PreTrainedTokenizerFast\n",
    "\n",
    "# kogpt 모델 로드\n",
    "model_name = 'skt/kogpt2-base-v2' \n",
    "tokenizer = PreTrainedTokenizerFast.from_pretrained(model_name, bos_token='</s>', eos_token='</s>', unk_token='<unk>',\n",
    "    pad_token='</s>')\n",
    "model = GPT2LMHeadModel.from_pretrained(model_name)\n"
   ]
  },
  {
   "cell_type": "code",
   "execution_count": null,
   "metadata": {
    "vscode": {
     "languageId": "plaintext"
    }
   },
   "outputs": [],
   "source": [
    "# 샘플 텍스트 데이터\n",
    "texts = [\n",
    "    \"학사제도는 대학의 학사 운영에 대한 제도입니다.\",\n",
    "    \"수강 신청은 매 학기 시작 전 진행됩니다.\",\n",
    "    \"성적 평가는 절대평가와 상대평가로 나뉩니다.\",\n",
    "    \"휴학은 학칙에 따라 신청 가능합니다.\",\n",
    "    \"복학은 지정된 기간 내에 신청해야 합니다.\",\n",
    "    \"졸업 요건은 전공 이수 학점을 충족해야 합니다.\",\n",
    "    \"전과 신청은 일정 기준을 만족해야 합니다.\",\n",
    "    \"재수강은 성적 향상을 위해 가능합니다.\",\n",
    "    \"학점 인정은 교과목의 성격에 따라 결정됩니다.\",\n",
    "    \"수업은 온라인과 오프라인으로 진행됩니다.\",\n",
    "    \"시험은 중간고사와 기말고사로 구성됩니다.\",\n",
    "    \"학점 포기는 정해진 기간 내에 가능합니다.\",\n",
    "    \"장학금 신청은 매 학기 초에 진행됩니다.\",\n",
    "    \"교환학생 프로그램은 다양한 국가에서 운영됩니다.\",\n",
    "    \"학생 상담은 교수님과 예약 후 가능합니다.\",\n",
    "    \"수업 자료는 학교 웹사이트에서 확인할 수 있습니다.\",\n",
    "    \"동아리 활동은 학업과 병행 가능합니다.\",\n",
    "    \"등록금 납부는 지정된 은행을 통해 진행됩니다.\",\n",
    "    \"도서관은 평일과 주말 모두 운영됩니다.\",\n",
    "    \"캠퍼스 내 시설은 학생들에게 개방되어 있습니다.\",\n",
    "]\n",
    "\n",
    "# 데이터셋 분리\n",
    "train_texts = texts[:2]\n",
    "test_texts = texts[2:]\n",
    "\n",
    "# 데이터셋 생성\n",
    "train_dataset = Dataset.from_dict({'text': train_texts})\n",
    "test_dataset = Dataset.from_dict({'text': test_texts})\n"
   ]
  },
  {
   "cell_type": "code",
   "execution_count": null,
   "metadata": {
    "vscode": {
     "languageId": "plaintext"
    }
   },
   "outputs": [],
   "source": [
    "#토크나이징\n",
    "def tokenize_function(examples):\n",
    "    model_inputs = tokenizer(examples[\"text\"], padding='max_length', max_length=512, truncation=True)\n",
    "    model_inputs[\"labels\"] = model_inputs[\"input_ids\"].copy()\n",
    "    return model_inputs\n",
    "\n",
    "tokenized_train = train_dataset.map(tokenize_function, batched=True)\n",
    "tokenized_test = test_dataset.map(tokenize_function, batched=True)"
   ]
  },
  {
   "cell_type": "code",
   "execution_count": null,
   "metadata": {
    "vscode": {
     "languageId": "plaintext"
    }
   },
   "outputs": [],
   "source": [
    "#파인튜닝\n",
    "training_args = TrainingArguments(\n",
    "    output_dir=\"./results\",\n",
    "    num_train_epochs=3,\n",
    "    per_device_train_batch_size=2,\n",
    "    per_device_eval_batch_size=2,\n",
    "    evaluation_strategy=\"epoch\", \n",
    "    save_strategy=\"epoch\",\n",
    "    logging_strategy=\"epoch\",\n",
    "    logging_dir=\"./logs\",\n",
    "    logging_steps=10,\n",
    "    save_total_limit=2,\n",
    "    load_best_model_at_end=True,\n",
    "    report_to=\"none\",\n",
    ")\n",
    "\n",
    "trainer = Trainer(\n",
    "    model=model,\n",
    "    args=training_args,\n",
    "    train_dataset=tokenized_train,\n",
    "    eval_dataset=tokenized_test,\n",
    ")\n",
    "\n",
    "trainer.train()\n"
   ]
  }
 ],
 "metadata": {
  "language_info": {
   "name": "python"
  }
 },
 "nbformat": 4,
 "nbformat_minor": 2
}
